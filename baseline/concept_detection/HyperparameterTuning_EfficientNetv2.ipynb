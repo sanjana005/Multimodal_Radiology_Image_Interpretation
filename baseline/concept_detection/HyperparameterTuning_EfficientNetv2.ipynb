{
 "cells": [
  {
   "cell_type": "code",
   "execution_count": 1,
   "id": "eea77665",
   "metadata": {},
   "outputs": [
    {
     "name": "stderr",
     "output_type": "stream",
     "text": [
      "/users/snranepuradewage/.lico_env/jupyter/env/lib/python3.8/site-packages/tqdm/auto.py:21: TqdmWarning: IProgress not found. Please update jupyter and ipywidgets. See https://ipywidgets.readthedocs.io/en/stable/user_install.html\n",
      "  from .autonotebook import tqdm as notebook_tqdm\n"
     ]
    }
   ],
   "source": [
    "#import packages\n",
    "import os, time\n",
    "import pandas as pd\n",
    "import numpy as np\n",
    "\n",
    "from PIL import Image, ImageFile\n",
    "ImageFile.LOAD_TRUNCATED_IMAGES = True\n",
    "\n",
    "import torch\n",
    "import torch.nn as nn\n",
    "from torch.utils.data import Dataset, DataLoader\n",
    "from torch import autocast\n",
    "\n",
    "import torchvision.transforms as transforms\n",
    "\n",
    "from timm.models import create_model\n",
    "\n",
    "from sklearn.metrics import f1_score\n",
    "from livelossplot import PlotLosses\n",
    "\n",
    "from tqdm import tqdm"
   ]
  },
  {
   "cell_type": "code",
   "execution_count": 2,
   "id": "81eaf011",
   "metadata": {},
   "outputs": [],
   "source": [
    "MODEL_DIR = os.path.join(\"/users/snranepuradewage/roco_multimodal/baseline/models_concept/\")\n",
    "filenameCSV=MODEL_DIR+\"HyperparameterTuning_EfficientNetv2.csv\"\n",
    "DATA_DIR=\"/users/snranepuradewage/roco-dataset-master/data-master\"\n",
    "data_train=DATA_DIR+\"/train/\"\n",
    "data_valid=DATA_DIR+\"/valid/\""
   ]
  },
  {
   "cell_type": "code",
   "execution_count": 3,
   "id": "f4915997",
   "metadata": {},
   "outputs": [],
   "source": [
    "#load dataset with IDs\n",
    "df_train=pd.read_csv(DATA_DIR+\"/train_concepts.csv\",sep=\",\")\n",
    "df_valid=pd.read_csv(DATA_DIR+\"/valid_concepts.csv\",sep=\",\")"
   ]
  },
  {
   "cell_type": "code",
   "execution_count": 4,
   "id": "42a356d1",
   "metadata": {},
   "outputs": [
    {
     "data": {
      "text/html": [
       "<div>\n",
       "<style scoped>\n",
       "    .dataframe tbody tr th:only-of-type {\n",
       "        vertical-align: middle;\n",
       "    }\n",
       "\n",
       "    .dataframe tbody tr th {\n",
       "        vertical-align: top;\n",
       "    }\n",
       "\n",
       "    .dataframe thead th {\n",
       "        text-align: right;\n",
       "    }\n",
       "</style>\n",
       "<table border=\"1\" class=\"dataframe\">\n",
       "  <thead>\n",
       "    <tr style=\"text-align: right;\">\n",
       "      <th></th>\n",
       "      <th>ID</th>\n",
       "      <th>CUIs</th>\n",
       "    </tr>\n",
       "  </thead>\n",
       "  <tbody>\n",
       "    <tr>\n",
       "      <th>0</th>\n",
       "      <td>ROCOv2_2023_train_000001</td>\n",
       "      <td>C0040405</td>\n",
       "    </tr>\n",
       "    <tr>\n",
       "      <th>1</th>\n",
       "      <td>ROCOv2_2023_train_000002</td>\n",
       "      <td>C0041618</td>\n",
       "    </tr>\n",
       "    <tr>\n",
       "      <th>2</th>\n",
       "      <td>ROCOv2_2023_train_000003</td>\n",
       "      <td>C0040405;C0817096;C0205271</td>\n",
       "    </tr>\n",
       "    <tr>\n",
       "      <th>3</th>\n",
       "      <td>ROCOv2_2023_train_000004</td>\n",
       "      <td>C0002978;C0036033;C1266909;C0225317</td>\n",
       "    </tr>\n",
       "    <tr>\n",
       "      <th>4</th>\n",
       "      <td>ROCOv2_2023_train_000005</td>\n",
       "      <td>C0040405;C0817096;C0497156</td>\n",
       "    </tr>\n",
       "    <tr>\n",
       "      <th>...</th>\n",
       "      <td>...</td>\n",
       "      <td>...</td>\n",
       "    </tr>\n",
       "    <tr>\n",
       "      <th>59953</th>\n",
       "      <td>ROCOv2_2023_train_060159</td>\n",
       "      <td>C0040405;C0005682</td>\n",
       "    </tr>\n",
       "    <tr>\n",
       "      <th>59954</th>\n",
       "      <td>ROCOv2_2023_train_060160</td>\n",
       "      <td>C1306645;C0000726;C1999039;C0022646;C0006736</td>\n",
       "    </tr>\n",
       "    <tr>\n",
       "      <th>59955</th>\n",
       "      <td>ROCOv2_2023_train_060161</td>\n",
       "      <td>C0002978;C1510412;C0226333</td>\n",
       "    </tr>\n",
       "    <tr>\n",
       "      <th>59956</th>\n",
       "      <td>ROCOv2_2023_train_060162</td>\n",
       "      <td>C0002978;C1510412</td>\n",
       "    </tr>\n",
       "    <tr>\n",
       "      <th>59957</th>\n",
       "      <td>ROCOv2_2023_train_060163</td>\n",
       "      <td>C0002978;C0002940;C0003483;C0226262</td>\n",
       "    </tr>\n",
       "  </tbody>\n",
       "</table>\n",
       "<p>59958 rows × 2 columns</p>\n",
       "</div>"
      ],
      "text/plain": [
       "                             ID                                          CUIs\n",
       "0      ROCOv2_2023_train_000001                                      C0040405\n",
       "1      ROCOv2_2023_train_000002                                      C0041618\n",
       "2      ROCOv2_2023_train_000003                    C0040405;C0817096;C0205271\n",
       "3      ROCOv2_2023_train_000004           C0002978;C0036033;C1266909;C0225317\n",
       "4      ROCOv2_2023_train_000005                    C0040405;C0817096;C0497156\n",
       "...                         ...                                           ...\n",
       "59953  ROCOv2_2023_train_060159                             C0040405;C0005682\n",
       "59954  ROCOv2_2023_train_060160  C1306645;C0000726;C1999039;C0022646;C0006736\n",
       "59955  ROCOv2_2023_train_060161                    C0002978;C1510412;C0226333\n",
       "59956  ROCOv2_2023_train_060162                             C0002978;C1510412\n",
       "59957  ROCOv2_2023_train_060163           C0002978;C0002940;C0003483;C0226262\n",
       "\n",
       "[59958 rows x 2 columns]"
      ]
     },
     "execution_count": 4,
     "metadata": {},
     "output_type": "execute_result"
    }
   ],
   "source": [
    "df_train"
   ]
  },
  {
   "cell_type": "code",
   "execution_count": 5,
   "id": "2093c226",
   "metadata": {},
   "outputs": [
    {
     "data": {
      "text/html": [
       "<div>\n",
       "<style scoped>\n",
       "    .dataframe tbody tr th:only-of-type {\n",
       "        vertical-align: middle;\n",
       "    }\n",
       "\n",
       "    .dataframe tbody tr th {\n",
       "        vertical-align: top;\n",
       "    }\n",
       "\n",
       "    .dataframe thead th {\n",
       "        text-align: right;\n",
       "    }\n",
       "</style>\n",
       "<table border=\"1\" class=\"dataframe\">\n",
       "  <thead>\n",
       "    <tr style=\"text-align: right;\">\n",
       "      <th></th>\n",
       "      <th>ID</th>\n",
       "      <th>CUIs</th>\n",
       "    </tr>\n",
       "  </thead>\n",
       "  <tbody>\n",
       "    <tr>\n",
       "      <th>0</th>\n",
       "      <td>ROCOv2_2023_valid_000001</td>\n",
       "      <td>C1306645;C0817096;C1996865;C0442800;C0018787;C...</td>\n",
       "    </tr>\n",
       "    <tr>\n",
       "      <th>1</th>\n",
       "      <td>ROCOv2_2023_valid_000002</td>\n",
       "      <td>C1306645;C0030797;C0016169;C0227668;C0302148</td>\n",
       "    </tr>\n",
       "    <tr>\n",
       "      <th>2</th>\n",
       "      <td>ROCOv2_2023_valid_000003</td>\n",
       "      <td>C1306645;C0006141;C0006826;C0332482;C0206692;C...</td>\n",
       "    </tr>\n",
       "    <tr>\n",
       "      <th>3</th>\n",
       "      <td>ROCOv2_2023_valid_000004</td>\n",
       "      <td>C0040405;C1306460</td>\n",
       "    </tr>\n",
       "    <tr>\n",
       "      <th>4</th>\n",
       "      <td>ROCOv2_2023_valid_000005</td>\n",
       "      <td>C0040405;C0035359;C0027651</td>\n",
       "    </tr>\n",
       "    <tr>\n",
       "      <th>...</th>\n",
       "      <td>...</td>\n",
       "      <td>...</td>\n",
       "    </tr>\n",
       "    <tr>\n",
       "      <th>9899</th>\n",
       "      <td>ROCOv2_2023_valid_009944</td>\n",
       "      <td>C0041618</td>\n",
       "    </tr>\n",
       "    <tr>\n",
       "      <th>9900</th>\n",
       "      <td>ROCOv2_2023_valid_009945</td>\n",
       "      <td>C0040405;C0003489;C0042459</td>\n",
       "    </tr>\n",
       "    <tr>\n",
       "      <th>9901</th>\n",
       "      <td>ROCOv2_2023_valid_009946</td>\n",
       "      <td>C0040405;C2733397;C0456944;C0180499;C0225844</td>\n",
       "    </tr>\n",
       "    <tr>\n",
       "      <th>9902</th>\n",
       "      <td>ROCOv2_2023_valid_009947</td>\n",
       "      <td>C0041618</td>\n",
       "    </tr>\n",
       "    <tr>\n",
       "      <th>9903</th>\n",
       "      <td>ROCOv2_2023_valid_009948</td>\n",
       "      <td>C0040405;C0225730;C0032227</td>\n",
       "    </tr>\n",
       "  </tbody>\n",
       "</table>\n",
       "<p>9904 rows × 2 columns</p>\n",
       "</div>"
      ],
      "text/plain": [
       "                            ID  \\\n",
       "0     ROCOv2_2023_valid_000001   \n",
       "1     ROCOv2_2023_valid_000002   \n",
       "2     ROCOv2_2023_valid_000003   \n",
       "3     ROCOv2_2023_valid_000004   \n",
       "4     ROCOv2_2023_valid_000005   \n",
       "...                        ...   \n",
       "9899  ROCOv2_2023_valid_009944   \n",
       "9900  ROCOv2_2023_valid_009945   \n",
       "9901  ROCOv2_2023_valid_009946   \n",
       "9902  ROCOv2_2023_valid_009947   \n",
       "9903  ROCOv2_2023_valid_009948   \n",
       "\n",
       "                                                   CUIs  \n",
       "0     C1306645;C0817096;C1996865;C0442800;C0018787;C...  \n",
       "1          C1306645;C0030797;C0016169;C0227668;C0302148  \n",
       "2     C1306645;C0006141;C0006826;C0332482;C0206692;C...  \n",
       "3                                     C0040405;C1306460  \n",
       "4                            C0040405;C0035359;C0027651  \n",
       "...                                                 ...  \n",
       "9899                                           C0041618  \n",
       "9900                         C0040405;C0003489;C0042459  \n",
       "9901       C0040405;C2733397;C0456944;C0180499;C0225844  \n",
       "9902                                           C0041618  \n",
       "9903                         C0040405;C0225730;C0032227  \n",
       "\n",
       "[9904 rows x 2 columns]"
      ]
     },
     "execution_count": 5,
     "metadata": {},
     "output_type": "execute_result"
    }
   ],
   "source": [
    "df_valid"
   ]
  },
  {
   "cell_type": "code",
   "execution_count": 6,
   "id": "4549fc5a",
   "metadata": {},
   "outputs": [],
   "source": [
    "df_train[\"image_path\"]=data_train+df_train.ID+\".jpg\"\n",
    "df_valid[\"image_path\"]=data_valid+df_valid.ID+\".jpg\""
   ]
  },
  {
   "cell_type": "code",
   "execution_count": 7,
   "id": "081437a8",
   "metadata": {},
   "outputs": [],
   "source": [
    "cuis_list=[]\n",
    "for (i,row) in df_train.iterrows():\n",
    "    for cui in row[\"CUIs\"].split(\";\"):\n",
    "        if not cui in cuis_list:\n",
    "            cuis_list.append(cui)"
   ]
  },
  {
   "cell_type": "code",
   "execution_count": 8,
   "id": "e53dd616",
   "metadata": {},
   "outputs": [],
   "source": [
    "if not os.path.exists(MODEL_DIR):\n",
    "    os.makedirs(MODEL_DIR)"
   ]
  },
  {
   "cell_type": "code",
   "execution_count": 9,
   "id": "1289bb19",
   "metadata": {},
   "outputs": [],
   "source": [
    "NUM_CLASSES=len(cuis_list)"
   ]
  },
  {
   "cell_type": "code",
   "execution_count": 10,
   "id": "bc4ae5ce",
   "metadata": {},
   "outputs": [
    {
     "name": "stdout",
     "output_type": "stream",
     "text": [
      "Total unique CUIs: 1947\n"
     ]
    }
   ],
   "source": [
    "print(\"Total unique CUIs:\", len(cuis_list))"
   ]
  },
  {
   "cell_type": "code",
   "execution_count": 10,
   "id": "4dc9929c",
   "metadata": {},
   "outputs": [],
   "source": [
    "class ROCOv2Dataset(Dataset):\n",
    "    def __init__(self, data, transform=None):\n",
    "        self.data = data\n",
    "        self.transform = transform # Image augmentation pipeline\n",
    "\n",
    "    def __len__(self):\n",
    "        return self.data.shape[0]\n",
    "\n",
    "    def __getitem__(self, index):\n",
    "        obj = self.data.iloc[index] # get instance\n",
    "        label = obj.CUIs # get label\n",
    "        label_enc=torch.zeros((NUM_CLASSES))\n",
    "        for cui in label.split(\";\"):\n",
    "            label_enc[cuis_list.index(cui)]=1\n",
    "        img = Image.open(obj.image_path).convert(\"RGB\") # load image\n",
    "        img = self.transform(img)\n",
    "\n",
    "        return (img, label_enc)\n"
   ]
  },
  {
   "cell_type": "code",
   "execution_count": 11,
   "id": "9a42360c",
   "metadata": {},
   "outputs": [],
   "source": [
    "def get_val_preprocessing(img_size):\n",
    "    return transforms.Compose([\n",
    "                transforms.Resize(int(img_size * 1.25)), # Expand IMAGE_SIZE before center crop\n",
    "                transforms.CenterCrop(int(img_size)),\n",
    "                transforms.ToTensor(),\n",
    "                transforms.Normalize((0.485, 0.456, 0.406), (0.229, 0.224, 0.225))\n",
    "            ])\n",
    "\n",
    "class IdentityTransform:\n",
    "    def __call__(self, x):\n",
    "        return x\n",
    "\n",
    "\n",
    "def get_train_augmentation_preprocessing(img_size, rand_aug=False):\n",
    "    return transforms.Compose([\n",
    "                transforms.Resize(int(img_size * 1.25)), # Expand IMAGE_SIZE before random crop\n",
    "                transforms.RandomHorizontalFlip(p=0.5),\n",
    "                transforms.RandomVerticalFlip(p=0.5),\n",
    "                transforms.RandomCrop((img_size, img_size)), # Random Crop to IMAGE_SIZE\n",
    "                transforms.ToTensor(),\n",
    "                transforms.Normalize((0.485, 0.456, 0.406), (0.229, 0.224, 0.225))\n",
    "            ])"
   ]
  },
  {
   "cell_type": "code",
   "execution_count": 12,
   "id": "1638dbe5",
   "metadata": {},
   "outputs": [],
   "source": [
    "# shuffle\n",
    "train_data = df_train.sample(frac=1, random_state=1).reset_index(drop=True)\n",
    "valid_data = df_valid.sample(frac=1, random_state=1).reset_index(drop=True)"
   ]
  },
  {
   "cell_type": "code",
   "execution_count": 13,
   "id": "029cc1e8",
   "metadata": {},
   "outputs": [],
   "source": [
    "imgsize_train=300\n",
    "imgsize_val=300"
   ]
  },
  {
   "cell_type": "code",
   "execution_count": 14,
   "id": "2eb1f3f9",
   "metadata": {},
   "outputs": [],
   "source": [
    "train_aug_preprocessing = get_train_augmentation_preprocessing(imgsize_train, True)\n",
    "val_preprocessing = get_val_preprocessing(imgsize_val)"
   ]
  },
  {
   "cell_type": "code",
   "execution_count": 15,
   "id": "6509e563",
   "metadata": {},
   "outputs": [],
   "source": [
    "train_dataset= ROCOv2Dataset(df_train, transform=train_aug_preprocessing)\n",
    "valid_dataset = ROCOv2Dataset(df_valid, transform=val_preprocessing)\n"
   ]
  },
  {
   "cell_type": "code",
   "execution_count": 16,
   "id": "e748b322",
   "metadata": {},
   "outputs": [],
   "source": [
    "BATCH_SIZE=92"
   ]
  },
  {
   "cell_type": "code",
   "execution_count": 17,
   "id": "d4702cf1",
   "metadata": {},
   "outputs": [],
   "source": [
    "train_loader = DataLoader(dataset=train_dataset, shuffle=True, batch_size=BATCH_SIZE, num_workers=9, drop_last=True, pin_memory=True)\n",
    "valid_loader = DataLoader(dataset=valid_dataset, shuffle=False, batch_size=BATCH_SIZE, num_workers=9, drop_last=False, pin_memory=True)"
   ]
  },
  {
   "cell_type": "code",
   "execution_count": null,
   "id": "440da3d4",
   "metadata": {},
   "outputs": [
    {
     "data": {
      "image/png": "[encoded data removed]",
      "text/plain": [
       "<Figure size 1200x800 with 2 Axes>"
      ]
     },
     "metadata": {},
     "output_type": "display_data"
    },
    {
     "name": "stdout",
     "output_type": "stream",
     "text": [
      "F1 macro\n",
      "\ttraining         \t (min:    0.000, max:    0.184, cur:    0.184)\n",
      "\tvalidation       \t (min:    0.000, max:    0.225, cur:    0.225)\n",
      "log loss\n",
      "\ttraining         \t (min:      nan, max:      nan, cur:    0.000)\n",
      "\tvalidation       \t (min:      nan, max:      nan, cur:    0.000)\n",
      "--- 265.0315206050873 seconds ---\n"
     ]
    },
    {
     "name": "stderr",
     "output_type": "stream",
     "text": [
      "Epoch [16/20]:  44%|████▍     | 288/651 [01:31<02:10,  2.79it/s]"
     ]
    }
   ],
   "source": [
    "liveloss = PlotLosses()\n",
    "m = nn.Sigmoid()\n",
    "for lr in [1e-1,1e-2,1e-3,1e-4,1e-5]:\n",
    "    for opt in [\"adam\",\"sgd\",\"rmsprop\"]:\n",
    "        use_amp = True\n",
    "        scaler = torch.cuda.amp.GradScaler(enabled=use_amp)\n",
    "        batchsize_factor=1\n",
    "        val_interval = 1\n",
    "        epoch_loss_values = []\n",
    "        max_epochs = 20\n",
    "        device = torch.device(\"cuda\" if torch.cuda.is_available() else \"cpu\")\n",
    "        model = create_model('tf_efficientnetv2_s.in21k', pretrained=True, num_classes=NUM_CLASSES, drop_path_rate=0.2)\n",
    "        loss_function = nn.MultiLabelSoftMarginLoss()\n",
    "        if opt == \"adam\":\n",
    "            optimizer = torch.optim.Adam(model.parameters(), lr=lr)\n",
    "        elif opt== \"sgd\":\n",
    "            optimizer = torch.optim.SGD(model.parameters(), lr=lr)\n",
    "        else:\n",
    "            optimizer = torch.optim.RMSprop(model.parameters(), lr=lr)\n",
    "        model = model.to(device)\n",
    "        for epoch in range(max_epochs):\n",
    "            start_time = time.time()\n",
    "            model.train()\n",
    "            logs = {}\n",
    "            epoch_loss = 0\n",
    "            epoch_loss_val = 0\n",
    "            step = 0\n",
    "            labels_sum = np.empty([0,NUM_CLASSES])\n",
    "            pred_sum = np.empty([0,NUM_CLASSES])\n",
    "            labels_sum_val = np.empty([0,NUM_CLASSES])\n",
    "            pred_sum_val = np.empty([0,NUM_CLASSES])\n",
    "            \n",
    "            for batch_idx,(inputs, labels) in enumerate(\n",
    "                tqdm(train_loader, desc=f\"Epoch [{epoch+1}/{max_epochs}]\", leave=False)):\n",
    "                step += 1\n",
    "                inputs = inputs.cuda()\n",
    "                labels = labels.cuda()\n",
    "                with autocast(device_type = 'cuda', enabled = True): \n",
    "                    outputs = model(inputs)\n",
    "                    loss = loss_function(outputs,labels)\n",
    "                    loss = loss / batchsize_factor\n",
    "                    scaler.scale(loss).backward()\n",
    "                    output_sig = m(outputs)\n",
    "                    output_sig_class = (output_sig>=0.5).long()\n",
    "                if (step+1) % batchsize_factor == 0:\n",
    "                    scaler.unscale_(optimizer)\n",
    "                    nn.utils.clip_grad_norm_(model.parameters(), 1.0)\n",
    "                    scaler.step(optimizer)\n",
    "                    scaler.update()\n",
    "                    optimizer.zero_grad(set_to_none = True)\n",
    "                epoch_loss += (loss.item() * batchsize_factor)\n",
    "                epoch_len = len(train_dataset) // train_loader.batch_size\n",
    "                labels_sum = np.append(labels_sum, labels.detach().cpu().numpy(), axis = 0)\n",
    "\n",
    "                pred_sum = np.append(pred_sum, output_sig_class.detach().cpu().numpy(), axis = 0)\n",
    "\n",
    "            logs['log loss'] = epoch_loss / len(train_dataset)\n",
    "            logs['F1 macro'] = f1_score(labels_sum.T, pred_sum.T, average='macro')\n",
    "            epoch_loss_values.append(epoch_loss)\n",
    "            if (epoch + 1) % val_interval == 0:\n",
    "                model.eval()\n",
    "                with torch.no_grad():\n",
    "                    num_correct = 0.0\n",
    "                    metric_count = 0\n",
    "                    for batch_idx, (inputs, labels) in enumerate(valid_loader):\n",
    "                        inputs = inputs.cuda()\n",
    "                        labels = labels.cuda()\n",
    "                        with autocast(device_type = 'cuda', enabled = True):  \n",
    "                            outputs = model(inputs)\n",
    "                            loss = loss_function(outputs, labels)\n",
    "                            loss = loss / batchsize_factor\n",
    "                            output_sig = m(outputs)\n",
    "                            output_sig_class = (output_sig >= 0.5).long()\n",
    "                        labels_sum_val = np.append(labels_sum_val, labels.detach().cpu().numpy(), axis = 0)\n",
    "                        pred_sum_val = np.append(pred_sum_val, output_sig_class.detach().cpu().numpy(), axis = 0)\n",
    "                        epoch_loss_val += loss.item()\n",
    "                    logs['val_log loss'] = epoch_loss_val / len(valid_dataset)\n",
    "                    logs['val_F1 macro'] = f1_score(labels_sum_val.T, pred_sum_val.T, average='macro')\n",
    "            liveloss.update(logs)\n",
    "            liveloss.send()\n",
    "            torch.save(model.state_dict(), MODEL_DIR+\"model_\"+str(opt)+\"_\"+str(lr)+\"_\"+str(epoch)+\".pth\")\n",
    "            d = {'optimizer': [opt], 'LR': [lr], 'Epoch':[epoch], \"Epoch-F1\": [f1_score(labels_sum_val.T, pred_sum_val.T, average='macro') * 100],\"Epoch-Loss\":[epoch_loss_val / len(valid_dataset)]}\n",
    "\n",
    "            df = pd.DataFrame(data = d)\n",
    "\n",
    "            if os.path.isfile(filenameCSV):\n",
    "                df.to_csv(filenameCSV, mode = 'a', header = False)\n",
    "            else:\n",
    "                df.to_csv(filenameCSV, mode = 'w', header = True)\n",
    "            print(\"--- %s seconds ---\" % (time.time() - start_time))"
   ]
  },
  {
   "cell_type": "code",
   "execution_count": null,
   "id": "fcaa8f3b",
   "metadata": {},
   "outputs": [],
   "source": []
  }
 ],
 "metadata": {
  "kernelspec": {
   "display_name": "Python 3 (ipykernel)",
   "language": "python",
   "name": "python3"
  },
  "language_info": {
   "codemirror_mode": {
    "name": "ipython",
    "version": 3
   },
   "file_extension": ".py",
   "mimetype": "text/x-python",
   "name": "python",
   "nbconvert_exporter": "python",
   "pygments_lexer": "ipython3",
   "version": "3.8.18"
  }
 },
 "nbformat": 4,
 "nbformat_minor": 5
}
