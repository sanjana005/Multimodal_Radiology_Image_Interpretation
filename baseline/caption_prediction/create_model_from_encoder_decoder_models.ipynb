{
 "cells": [
  {
   "cell_type": "code",
   "execution_count": 1,
   "id": "35e775c6",
   "metadata": {
    "scrolled": true
   },
   "outputs": [
    {
     "name": "stderr",
     "output_type": "stream",
     "text": [
      "/users/snranepuradewage/.lico_env/jupyter/env/lib/python3.8/site-packages/tqdm/auto.py:21: TqdmWarning: IProgress not found. Please update jupyter and ipywidgets. See https://ipywidgets.readthedocs.io/en/stable/user_install.html\n",
      "  from .autonotebook import tqdm as notebook_tqdm\n"
     ]
    }
   ],
   "source": [
    "from dataclasses import dataclass, field\n",
    "from typing import Optional\n",
    "\n",
    "from transformers import AutoConfig, AutoImageProcessor, AutoTokenizer, VisionEncoderDecoderModel, HfArgumentParser\n"
   ]
  },
  {
   "cell_type": "code",
   "execution_count": 4,
   "id": "13b2baf3",
   "metadata": {},
   "outputs": [
    {
     "name": "stdout",
     "output_type": "stream",
     "text": [
      "Encoder: google/vit-base-patch16-224-in21k\n",
      "Decoder: stanford-crfm/BioMedLM\n"
     ]
    }
   ],
   "source": [
    "encoder_model_name_or_path = \"google/vit-base-patch16-224-in21k\"\n",
    "decoder_model_name_or_path = \"stanford-crfm/BioMedLM\"\n",
    "output_dir = \"./vit_biomedlm_caption_model\"\n",
    "\n",
    "print(\"Encoder:\", encoder_model_name_or_path)\n",
    "print(\"Decoder:\", decoder_model_name_or_path)"
   ]
  },
  {
   "cell_type": "code",
   "execution_count": 5,
   "id": "887780df",
   "metadata": {},
   "outputs": [],
   "source": [
    "from transformers import AutoConfig\n",
    "\n",
    "encoder_config = AutoConfig.from_pretrained(encoder_model_name_or_path)\n",
    "decoder_config = AutoConfig.from_pretrained(decoder_model_name_or_path)\n",
    "\n",
    "# Enable decoder cross-attention\n",
    "decoder_config.is_decoder = True\n",
    "decoder_config.add_cross_attention = True"
   ]
  },
  {
   "cell_type": "code",
   "execution_count": 6,
   "id": "7a9d838e",
   "metadata": {},
   "outputs": [
    {
     "name": "stderr",
     "output_type": "stream",
     "text": [
      "Some weights of GPT2LMHeadModel were not initialized from the model checkpoint at stanford-crfm/BioMedLM and are newly initialized: ['transformer.h.0.crossattention.c_attn.bias', 'transformer.h.0.crossattention.c_attn.weight', 'transformer.h.0.crossattention.c_proj.bias', 'transformer.h.0.crossattention.c_proj.weight', 'transformer.h.0.crossattention.q_attn.bias', 'transformer.h.0.crossattention.q_attn.weight', 'transformer.h.0.ln_cross_attn.bias', 'transformer.h.0.ln_cross_attn.weight', 'transformer.h.1.crossattention.c_attn.bias', 'transformer.h.1.crossattention.c_attn.weight', 'transformer.h.1.crossattention.c_proj.bias', 'transformer.h.1.crossattention.c_proj.weight', 'transformer.h.1.crossattention.q_attn.bias', 'transformer.h.1.crossattention.q_attn.weight', 'transformer.h.1.ln_cross_attn.bias', 'transformer.h.1.ln_cross_attn.weight', 'transformer.h.10.crossattention.c_attn.bias', 'transformer.h.10.crossattention.c_attn.weight', 'transformer.h.10.crossattention.c_proj.bias', 'transformer.h.10.crossattention.c_proj.weight', 'transformer.h.10.crossattention.q_attn.bias', 'transformer.h.10.crossattention.q_attn.weight', 'transformer.h.10.ln_cross_attn.bias', 'transformer.h.10.ln_cross_attn.weight', 'transformer.h.11.crossattention.c_attn.bias', 'transformer.h.11.crossattention.c_attn.weight', 'transformer.h.11.crossattention.c_proj.bias', 'transformer.h.11.crossattention.c_proj.weight', 'transformer.h.11.crossattention.q_attn.bias', 'transformer.h.11.crossattention.q_attn.weight', 'transformer.h.11.ln_cross_attn.bias', 'transformer.h.11.ln_cross_attn.weight', 'transformer.h.12.crossattention.c_attn.bias', 'transformer.h.12.crossattention.c_attn.weight', 'transformer.h.12.crossattention.c_proj.bias', 'transformer.h.12.crossattention.c_proj.weight', 'transformer.h.12.crossattention.q_attn.bias', 'transformer.h.12.crossattention.q_attn.weight', 'transformer.h.12.ln_cross_attn.bias', 'transformer.h.12.ln_cross_attn.weight', 'transformer.h.13.crossattention.c_attn.bias', 'transformer.h.13.crossattention.c_attn.weight', 'transformer.h.13.crossattention.c_proj.bias', 'transformer.h.13.crossattention.c_proj.weight', 'transformer.h.13.crossattention.q_attn.bias', 'transformer.h.13.crossattention.q_attn.weight', 'transformer.h.13.ln_cross_attn.bias', 'transformer.h.13.ln_cross_attn.weight', 'transformer.h.14.crossattention.c_attn.bias', 'transformer.h.14.crossattention.c_attn.weight', 'transformer.h.14.crossattention.c_proj.bias', 'transformer.h.14.crossattention.c_proj.weight', 'transformer.h.14.crossattention.q_attn.bias', 'transformer.h.14.crossattention.q_attn.weight', 'transformer.h.14.ln_cross_attn.bias', 'transformer.h.14.ln_cross_attn.weight', 'transformer.h.15.crossattention.c_attn.bias', 'transformer.h.15.crossattention.c_attn.weight', 'transformer.h.15.crossattention.c_proj.bias', 'transformer.h.15.crossattention.c_proj.weight', 'transformer.h.15.crossattention.q_attn.bias', 'transformer.h.15.crossattention.q_attn.weight', 'transformer.h.15.ln_cross_attn.bias', 'transformer.h.15.ln_cross_attn.weight', 'transformer.h.16.crossattention.c_attn.bias', 'transformer.h.16.crossattention.c_attn.weight', 'transformer.h.16.crossattention.c_proj.bias', 'transformer.h.16.crossattention.c_proj.weight', 'transformer.h.16.crossattention.q_attn.bias', 'transformer.h.16.crossattention.q_attn.weight', 'transformer.h.16.ln_cross_attn.bias', 'transformer.h.16.ln_cross_attn.weight', 'transformer.h.17.crossattention.c_attn.bias', 'transformer.h.17.crossattention.c_attn.weight', 'transformer.h.17.crossattention.c_proj.bias', 'transformer.h.17.crossattention.c_proj.weight', 'transformer.h.17.crossattention.q_attn.bias', 'transformer.h.17.crossattention.q_attn.weight', 'transformer.h.17.ln_cross_attn.bias', 'transformer.h.17.ln_cross_attn.weight', 'transformer.h.18.crossattention.c_attn.bias', 'transformer.h.18.crossattention.c_attn.weight', 'transformer.h.18.crossattention.c_proj.bias', 'transformer.h.18.crossattention.c_proj.weight', 'transformer.h.18.crossattention.q_attn.bias', 'transformer.h.18.crossattention.q_attn.weight', 'transformer.h.18.ln_cross_attn.bias', 'transformer.h.18.ln_cross_attn.weight', 'transformer.h.19.crossattention.c_attn.bias', 'transformer.h.19.crossattention.c_attn.weight', 'transformer.h.19.crossattention.c_proj.bias', 'transformer.h.19.crossattention.c_proj.weight', 'transformer.h.19.crossattention.q_attn.bias', 'transformer.h.19.crossattention.q_attn.weight', 'transformer.h.19.ln_cross_attn.bias', 'transformer.h.19.ln_cross_attn.weight', 'transformer.h.2.crossattention.c_attn.bias', 'transformer.h.2.crossattention.c_attn.weight', 'transformer.h.2.crossattention.c_proj.bias', 'transformer.h.2.crossattention.c_proj.weight', 'transformer.h.2.crossattention.q_attn.bias', 'transformer.h.2.crossattention.q_attn.weight', 'transformer.h.2.ln_cross_attn.bias', 'transformer.h.2.ln_cross_attn.weight', 'transformer.h.20.crossattention.c_attn.bias', 'transformer.h.20.crossattention.c_attn.weight', 'transformer.h.20.crossattention.c_proj.bias', 'transformer.h.20.crossattention.c_proj.weight', 'transformer.h.20.crossattention.q_attn.bias', 'transformer.h.20.crossattention.q_attn.weight', 'transformer.h.20.ln_cross_attn.bias', 'transformer.h.20.ln_cross_attn.weight', 'transformer.h.21.crossattention.c_attn.bias', 'transformer.h.21.crossattention.c_attn.weight', 'transformer.h.21.crossattention.c_proj.bias', 'transformer.h.21.crossattention.c_proj.weight', 'transformer.h.21.crossattention.q_attn.bias', 'transformer.h.21.crossattention.q_attn.weight', 'transformer.h.21.ln_cross_attn.bias', 'transformer.h.21.ln_cross_attn.weight', 'transformer.h.22.crossattention.c_attn.bias', 'transformer.h.22.crossattention.c_attn.weight', 'transformer.h.22.crossattention.c_proj.bias', 'transformer.h.22.crossattention.c_proj.weight', 'transformer.h.22.crossattention.q_attn.bias', 'transformer.h.22.crossattention.q_attn.weight', 'transformer.h.22.ln_cross_attn.bias', 'transformer.h.22.ln_cross_attn.weight', 'transformer.h.23.crossattention.c_attn.bias', 'transformer.h.23.crossattention.c_attn.weight', 'transformer.h.23.crossattention.c_proj.bias', 'transformer.h.23.crossattention.c_proj.weight', 'transformer.h.23.crossattention.q_attn.bias', 'transformer.h.23.crossattention.q_attn.weight', 'transformer.h.23.ln_cross_attn.bias', 'transformer.h.23.ln_cross_attn.weight', 'transformer.h.24.crossattention.c_attn.bias', 'transformer.h.24.crossattention.c_attn.weight', 'transformer.h.24.crossattention.c_proj.bias', 'transformer.h.24.crossattention.c_proj.weight', 'transformer.h.24.crossattention.q_attn.bias', 'transformer.h.24.crossattention.q_attn.weight', 'transformer.h.24.ln_cross_attn.bias', 'transformer.h.24.ln_cross_attn.weight', 'transformer.h.25.crossattention.c_attn.bias', 'transformer.h.25.crossattention.c_attn.weight', 'transformer.h.25.crossattention.c_proj.bias', 'transformer.h.25.crossattention.c_proj.weight', 'transformer.h.25.crossattention.q_attn.bias', 'transformer.h.25.crossattention.q_attn.weight', 'transformer.h.25.ln_cross_attn.bias', 'transformer.h.25.ln_cross_attn.weight', 'transformer.h.26.crossattention.c_attn.bias', 'transformer.h.26.crossattention.c_attn.weight', 'transformer.h.26.crossattention.c_proj.bias', 'transformer.h.26.crossattention.c_proj.weight', 'transformer.h.26.crossattention.q_attn.bias', 'transformer.h.26.crossattention.q_attn.weight', 'transformer.h.26.ln_cross_attn.bias', 'transformer.h.26.ln_cross_attn.weight', 'transformer.h.27.crossattention.c_attn.bias', 'transformer.h.27.crossattention.c_attn.weight', 'transformer.h.27.crossattention.c_proj.bias', 'transformer.h.27.crossattention.c_proj.weight', 'transformer.h.27.crossattention.q_attn.bias', 'transformer.h.27.crossattention.q_attn.weight', 'transformer.h.27.ln_cross_attn.bias', 'transformer.h.27.ln_cross_attn.weight', 'transformer.h.28.crossattention.c_attn.bias', 'transformer.h.28.crossattention.c_attn.weight', 'transformer.h.28.crossattention.c_proj.bias', 'transformer.h.28.crossattention.c_proj.weight', 'transformer.h.28.crossattention.q_attn.bias', 'transformer.h.28.crossattention.q_attn.weight', 'transformer.h.28.ln_cross_attn.bias', 'transformer.h.28.ln_cross_attn.weight', 'transformer.h.29.crossattention.c_attn.bias', 'transformer.h.29.crossattention.c_attn.weight', 'transformer.h.29.crossattention.c_proj.bias', 'transformer.h.29.crossattention.c_proj.weight', 'transformer.h.29.crossattention.q_attn.bias', 'transformer.h.29.crossattention.q_attn.weight', 'transformer.h.29.ln_cross_attn.bias', 'transformer.h.29.ln_cross_attn.weight', 'transformer.h.3.crossattention.c_attn.bias', 'transformer.h.3.crossattention.c_attn.weight', 'transformer.h.3.crossattention.c_proj.bias', 'transformer.h.3.crossattention.c_proj.weight', 'transformer.h.3.crossattention.q_attn.bias', 'transformer.h.3.crossattention.q_attn.weight', 'transformer.h.3.ln_cross_attn.bias', 'transformer.h.3.ln_cross_attn.weight', 'transformer.h.30.crossattention.c_attn.bias', 'transformer.h.30.crossattention.c_attn.weight', 'transformer.h.30.crossattention.c_proj.bias', 'transformer.h.30.crossattention.c_proj.weight', 'transformer.h.30.crossattention.q_attn.bias', 'transformer.h.30.crossattention.q_attn.weight', 'transformer.h.30.ln_cross_attn.bias', 'transformer.h.30.ln_cross_attn.weight', 'transformer.h.31.crossattention.c_attn.bias', 'transformer.h.31.crossattention.c_attn.weight', 'transformer.h.31.crossattention.c_proj.bias', 'transformer.h.31.crossattention.c_proj.weight', 'transformer.h.31.crossattention.q_attn.bias', 'transformer.h.31.crossattention.q_attn.weight', 'transformer.h.31.ln_cross_attn.bias', 'transformer.h.31.ln_cross_attn.weight', 'transformer.h.4.crossattention.c_attn.bias', 'transformer.h.4.crossattention.c_attn.weight', 'transformer.h.4.crossattention.c_proj.bias', 'transformer.h.4.crossattention.c_proj.weight', 'transformer.h.4.crossattention.q_attn.bias', 'transformer.h.4.crossattention.q_attn.weight', 'transformer.h.4.ln_cross_attn.bias', 'transformer.h.4.ln_cross_attn.weight', 'transformer.h.5.crossattention.c_attn.bias', 'transformer.h.5.crossattention.c_attn.weight', 'transformer.h.5.crossattention.c_proj.bias', 'transformer.h.5.crossattention.c_proj.weight', 'transformer.h.5.crossattention.q_attn.bias', 'transformer.h.5.crossattention.q_attn.weight', 'transformer.h.5.ln_cross_attn.bias', 'transformer.h.5.ln_cross_attn.weight', 'transformer.h.6.crossattention.c_attn.bias', 'transformer.h.6.crossattention.c_attn.weight', 'transformer.h.6.crossattention.c_proj.bias', 'transformer.h.6.crossattention.c_proj.weight', 'transformer.h.6.crossattention.q_attn.bias', 'transformer.h.6.crossattention.q_attn.weight', 'transformer.h.6.ln_cross_attn.bias', 'transformer.h.6.ln_cross_attn.weight', 'transformer.h.7.crossattention.c_attn.bias', 'transformer.h.7.crossattention.c_attn.weight', 'transformer.h.7.crossattention.c_proj.bias', 'transformer.h.7.crossattention.c_proj.weight', 'transformer.h.7.crossattention.q_attn.bias', 'transformer.h.7.crossattention.q_attn.weight', 'transformer.h.7.ln_cross_attn.bias', 'transformer.h.7.ln_cross_attn.weight', 'transformer.h.8.crossattention.c_attn.bias', 'transformer.h.8.crossattention.c_attn.weight', 'transformer.h.8.crossattention.c_proj.bias', 'transformer.h.8.crossattention.c_proj.weight', 'transformer.h.8.crossattention.q_attn.bias', 'transformer.h.8.crossattention.q_attn.weight', 'transformer.h.8.ln_cross_attn.bias', 'transformer.h.8.ln_cross_attn.weight', 'transformer.h.9.crossattention.c_attn.bias', 'transformer.h.9.crossattention.c_attn.weight', 'transformer.h.9.crossattention.c_proj.bias', 'transformer.h.9.crossattention.c_proj.weight', 'transformer.h.9.crossattention.q_attn.bias', 'transformer.h.9.crossattention.q_attn.weight', 'transformer.h.9.ln_cross_attn.bias', 'transformer.h.9.ln_cross_attn.weight']\n",
      "You should probably TRAIN this model on a down-stream task to be able to use it for predictions and inference.\n"
     ]
    },
    {
     "name": "stdout",
     "output_type": "stream",
     "text": [
      "✅ VisionEncoderDecoderModel created successfully!\n"
     ]
    }
   ],
   "source": [
    "from transformers import VisionEncoderDecoderModel\n",
    "\n",
    "model = VisionEncoderDecoderModel.from_encoder_decoder_pretrained(\n",
    "    encoder_pretrained_model_name_or_path=encoder_model_name_or_path,\n",
    "    decoder_pretrained_model_name_or_path=decoder_model_name_or_path,\n",
    "    encoder_config=encoder_config,\n",
    "    decoder_config=decoder_config,\n",
    ")\n",
    "print(\"VisionEncoderDecoderModel created successfully!\")\n"
   ]
  },
  {
   "cell_type": "code",
   "execution_count": 7,
   "id": "daa799f6",
   "metadata": {},
   "outputs": [],
   "source": [
    "decoder_start_token_id = decoder_config.decoder_start_token_id or decoder_config.bos_token_id\n",
    "pad_token_id = decoder_config.pad_token_id or decoder_config.eos_token_id\n",
    "\n",
    "model.config.eos_token_id = decoder_config.eos_token_id\n",
    "model.config.decoder_start_token_id = decoder_start_token_id\n",
    "model.config.pad_token_id = pad_token_id\n"
   ]
  },
  {
   "cell_type": "code",
   "execution_count": 8,
   "id": "1255caad",
   "metadata": {},
   "outputs": [
    {
     "name": "stderr",
     "output_type": "stream",
     "text": [
      "Fast image processor class <class 'transformers.models.vit.image_processing_vit_fast.ViTImageProcessorFast'> is available for this model. Using slow image processor class. To use the fast image processor class set `use_fast=True`.\n"
     ]
    }
   ],
   "source": [
    "from transformers import AutoTokenizer, AutoImageProcessor\n",
    "\n",
    "image_processor = AutoImageProcessor.from_pretrained(encoder_model_name_or_path)\n",
    "tokenizer = AutoTokenizer.from_pretrained(decoder_model_name_or_path)\n",
    "\n",
    "# Set padding token properly\n",
    "tokenizer.pad_token = tokenizer.eos_token\n",
    "tokenizer.pad_token = tokenizer.convert_ids_to_tokens(model.config.pad_token_id)\n"
   ]
  },
  {
   "cell_type": "code",
   "execution_count": 9,
   "id": "dffeabe1",
   "metadata": {},
   "outputs": [
    {
     "name": "stdout",
     "output_type": "stream",
     "text": [
      "Model, tokenizer, and image processor saved in: ./vit_biomedlm_caption_model\n"
     ]
    }
   ],
   "source": [
    "model.save_pretrained(output_dir)\n",
    "image_processor.save_pretrained(output_dir)\n",
    "tokenizer.save_pretrained(output_dir)\n",
    "\n",
    "print(f\"Model, tokenizer, and image processor saved in: {output_dir}\")\n"
   ]
  },
  {
   "cell_type": "code",
   "execution_count": null,
   "id": "ab36e073",
   "metadata": {},
   "outputs": [],
   "source": []
  }
 ],
 "metadata": {
  "kernelspec": {
   "display_name": "Python 3 (ipykernel)",
   "language": "python",
   "name": "python3"
  },
  "language_info": {
   "codemirror_mode": {
    "name": "ipython",
    "version": 3
   },
   "file_extension": ".py",
   "mimetype": "text/x-python",
   "name": "python",
   "nbconvert_exporter": "python",
   "pygments_lexer": "ipython3",
   "version": "3.8.18"
  }
 },
 "nbformat": 4,
 "nbformat_minor": 5
}
